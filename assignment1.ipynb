{
 "cells": [
  {
   "cell_type": "markdown",
   "metadata": {},
   "source": [
    "Problem 1\n",
    "---------\n"
   ]
  },
  {
   "cell_type": "code",
   "execution_count": 1,
   "metadata": {
    "collapsed": false
   },
   "outputs": [
    {
     "name": "stdout",
     "output_type": "stream",
     "text": [
      "#1\n",
      "\n",
      "h = h_0 + (v_0*t) - (0.5g(t^2))\n",
      "v = v_0 - gt\n",
      "At t = 0.5s, v = 0.5m/s and h = 2.675m\n",
      "At t = 2.0s, v = -14.2m/s and h = -7.6m\n"
     ]
    }
   ],
   "source": [
    "import numpy as np\n",
    "print \"#1\"\n",
    "print\"\"\n",
    "\n",
    "h0 = 1.2\n",
    "v0=5.4\n",
    "g=9.8\n",
    "print \"h = h_0 + (v_0*t) - (0.5g(t^2))\"\n",
    "print \"v = v_0 - gt\"\n",
    "t = .5\n",
    "h = h0 + (v0*t) - (0.5*g*(t**2))\n",
    "v = v0 - (g*t)\n",
    "print \"At t = 0.5s, v = %sm/s and h = %sm\" %(v,h)\n",
    "t = 2.0\n",
    "h = h0 + (v0*t) - (0.5*g*(t**2))\n",
    "v = v0 - (g*t)\n",
    "print \"At t = 2.0s, v = %sm/s and h = %sm\" %(v,h)"
   ]
  },
  {
   "cell_type": "markdown",
   "metadata": {},
   "source": [
    "this is the solution to problem 2 for the equation $x = \\frac{1}{2}t^2$"
   ]
  },
  {
   "cell_type": "code",
   "execution_count": null,
   "metadata": {
    "collapsed": true
   },
   "outputs": [],
   "source": []
  }
 ],
 "metadata": {
  "anaconda-cloud": {},
  "kernelspec": {
   "display_name": "Python [Root]",
   "language": "python",
   "name": "Python [Root]"
  },
  "language_info": {
   "codemirror_mode": {
    "name": "ipython",
    "version": 2
   },
   "file_extension": ".py",
   "mimetype": "text/x-python",
   "name": "python",
   "nbconvert_exporter": "python",
   "pygments_lexer": "ipython2",
   "version": "2.7.12"
  }
 },
 "nbformat": 4,
 "nbformat_minor": 0
}
