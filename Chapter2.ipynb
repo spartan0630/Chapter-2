import numpy as np
print "#1"
print""

h0 = 1.2
v0=5.4
g=9.8
print "h = h_0 + (v_0*t) - (0.5g(t^2))"
print "v = v_0 - gt"
t = .5
h = h0 + (v0*t) - (0.5*g*(t**2))
v = v0 - (g*t)
print "At t = 0.5s, v = %sm/s and h = %sm" %(v,h)
t = 2.0
h = h0 + (v0*t) - (0.5*g*(t**2))
v = v0 - (g*t)
print "At t = 2.0s, v = %sm/s and h = %sm" %(v,h)

print ""
print "#2"
print ""

V_0 = 10
a = 2.5
z=13./3
V = V_0*(1-(z/(np.sqrt((a**2)+(z**2)))))
print "When z = 13/3, V = %s" %V
z=26./3
V = V_0*(1-(z/(np.sqrt((a**2)+(z**2)))))
print "When z = 26/3, V = %s" %V
z=13
V = V_0*(1-(z/(np.sqrt((a**2)+(z**2)))))
print "When z = 13, V = %s" %V

print ""
print "#3"
print ""

print "a."
print ""

a = (2 + np.exp(2.8))/((np.sqrt(13))-2)
print a

print ""
print "b."
print ""

b = (1-(1+np.log(2))**(-3.5))/(1+np.sqrt(5))
print b

print ""
print "c."
print ""

c = np.sin((2-np.sqrt(2))/(2+np.sqrt(2)))
print c

print ""
print "#4"
print ""
print "a."
print ""
a2=1.
b2=4.
c2=1.
x1=(-b2+np.sqrt((b2**2)-(4*a2*c2)))/(2*a2) 
x2=(-b2-np.sqrt((b2**2)-(4*a2*c2)))/(2*a2)
print "When a = 1, b = 4, and c = 1"
print "Root 1 = %s"%x1
print "Root 2 = %s"%x2
print ""
a2=2.
b2=5.
c2=3.
x1=(-b2+np.sqrt((b2**2)-(4*a2*c2)))/(2*a2) 
x2=(-b2-np.sqrt((b2**2)-(4*a2*c2)))/(2*a2)
print "When a = 2, b = 5, and c = 3"
print "Root 1 = %s"%x1
print "Root 2 = %s"%x2
print ""
print "b."
print ""
a2=1.+0j
b2=2.+0j
c2=3.+0j
x1=(-b2+np.sqrt((b2**2)-(4*a2*c2)))/(2*a2) 
x2=(-b2-np.sqrt((b2**2)-(4*a2*c2)))/(2*a2)
print "When a = 1, b = 2, and c = 3"
print "Root 1 = %s"%x1
print "Root 2 = %s"%x2